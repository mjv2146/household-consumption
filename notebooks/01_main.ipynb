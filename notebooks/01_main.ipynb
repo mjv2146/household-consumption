{
 "cells": [
  {
   "cell_type": "markdown",
   "metadata": {},
   "source": [
    "# Main\n",
    "- This file generates the core dataset of this project\n",
    "- The unit of observation is at the household level and includes\n",
    "    1. Demographic variables: age, gender, education, location, household size\n",
    "    2. Income sources\n",
    "    3. Consumption expenditures\n"
   ]
  },
  {
   "cell_type": "code",
   "execution_count": 197,
   "metadata": {},
   "outputs": [],
   "source": [
    "import pandas as pd\n",
    "import numpy as np\n",
    "import matplotlib.pyplot as plt\n",
    "\n",
    "import sys; \n",
    "sys.path.append('../src')\n",
    "#sys.path.append('/home/mitch/school/data/mexico_enigh/dicts/')\n",
    "sys.path.append('../dicts')\n",
    "#sys.path.append('/home/mitch/util/python/')\n",
    "import json_utils\n",
    "\n",
    "import utils\n",
    "import os; home = os.path.expanduser('~')\n",
    "\n",
    "from simpledbf import Dbf5"
   ]
  },
  {
   "cell_type": "code",
   "execution_count": 198,
   "metadata": {},
   "outputs": [],
   "source": [
    "raw  = home + '/Dropbox/data/mexico_enigh/raw/'\n",
    "interim = home + '/Dropbox/data/mexico_enigh/interim2/'\n",
    "dicts = home + '/github/ENIGH/dicts/'"
   ]
  },
  {
   "cell_type": "code",
   "execution_count": 199,
   "metadata": {},
   "outputs": [],
   "source": [
    "cpidir = home + '/Dropbox/data/cpi/'\n",
    "os.chdir(cpidir)\n",
    "cpi = pd.read_csv('cpi_annual.csv')\n",
    "cpi = cpi.rename(columns = {'time':'Y', 'PCPI_IX':'cpi'})\n",
    "cpi = cpi.query('country == \"MX\"')\n",
    "cpi = cpi.drop(columns=['Unnamed: 0', 'country'])"
   ]
  },
  {
   "cell_type": "code",
   "execution_count": 200,
   "metadata": {},
   "outputs": [
    {
     "data": {
      "text/html": [
       "<div>\n",
       "<style scoped>\n",
       "    .dataframe tbody tr th:only-of-type {\n",
       "        vertical-align: middle;\n",
       "    }\n",
       "\n",
       "    .dataframe tbody tr th {\n",
       "        vertical-align: top;\n",
       "    }\n",
       "\n",
       "    .dataframe thead th {\n",
       "        text-align: right;\n",
       "    }\n",
       "</style>\n",
       "<table border=\"1\" class=\"dataframe\">\n",
       "  <thead>\n",
       "    <tr style=\"text-align: right;\">\n",
       "      <th></th>\n",
       "      <th>Y</th>\n",
       "      <th>cpi</th>\n",
       "    </tr>\n",
       "  </thead>\n",
       "  <tbody>\n",
       "    <tr>\n",
       "      <th>73</th>\n",
       "      <td>1950</td>\n",
       "      <td>0.006298</td>\n",
       "    </tr>\n",
       "    <tr>\n",
       "      <th>74</th>\n",
       "      <td>1951</td>\n",
       "      <td>0.007090</td>\n",
       "    </tr>\n",
       "    <tr>\n",
       "      <th>75</th>\n",
       "      <td>1952</td>\n",
       "      <td>0.008101</td>\n",
       "    </tr>\n",
       "    <tr>\n",
       "      <th>76</th>\n",
       "      <td>1953</td>\n",
       "      <td>0.007978</td>\n",
       "    </tr>\n",
       "    <tr>\n",
       "      <th>77</th>\n",
       "      <td>1954</td>\n",
       "      <td>0.008365</td>\n",
       "    </tr>\n",
       "    <tr>\n",
       "      <th>...</th>\n",
       "      <td>...</td>\n",
       "      <td>...</td>\n",
       "    </tr>\n",
       "    <tr>\n",
       "      <th>141</th>\n",
       "      <td>2018</td>\n",
       "      <td>136.576649</td>\n",
       "    </tr>\n",
       "    <tr>\n",
       "      <th>142</th>\n",
       "      <td>2019</td>\n",
       "      <td>141.542523</td>\n",
       "    </tr>\n",
       "    <tr>\n",
       "      <th>143</th>\n",
       "      <td>2020</td>\n",
       "      <td>146.350488</td>\n",
       "    </tr>\n",
       "    <tr>\n",
       "      <th>144</th>\n",
       "      <td>2021</td>\n",
       "      <td>154.676672</td>\n",
       "    </tr>\n",
       "    <tr>\n",
       "      <th>145</th>\n",
       "      <td>2022</td>\n",
       "      <td>166.890369</td>\n",
       "    </tr>\n",
       "  </tbody>\n",
       "</table>\n",
       "<p>73 rows × 2 columns</p>\n",
       "</div>"
      ],
      "text/plain": [
       "        Y         cpi\n",
       "73   1950    0.006298\n",
       "74   1951    0.007090\n",
       "75   1952    0.008101\n",
       "76   1953    0.007978\n",
       "77   1954    0.008365\n",
       "..    ...         ...\n",
       "141  2018  136.576649\n",
       "142  2019  141.542523\n",
       "143  2020  146.350488\n",
       "144  2021  154.676672\n",
       "145  2022  166.890369\n",
       "\n",
       "[73 rows x 2 columns]"
      ]
     },
     "execution_count": 200,
     "metadata": {},
     "output_type": "execute_result"
    }
   ],
   "source": [
    "cpi"
   ]
  },
  {
   "cell_type": "code",
   "execution_count": 201,
   "metadata": {},
   "outputs": [
    {
     "data": {
      "image/png": "[encoded data removed]",
      "text/plain": [
       "<Figure size 640x480 with 1 Axes>"
      ]
     },
     "metadata": {},
     "output_type": "display_data"
    }
   ],
   "source": [
    "cpi.plot(x='Y', y='cpi')\n",
    "plt.ylabel('Price Level')\n",
    "plt.xlabel('Year');"
   ]
  },
  {
   "cell_type": "code",
   "execution_count": 202,
   "metadata": {},
   "outputs": [
    {
     "name": "stdout",
     "output_type": "stream",
     "text": [
      "{'folio': 'hhid', 'folioviv': 'hhid', 'ubica_geo': 'location', 'factor': 'weight', 'hog': 'weight', 'estrato': 'location_size', 'gastot': 'consumption_total', 'gascor': 'consumption_current', 'alimentos': 'consumption_food', 'vestido': 'consumption_clothing', 'vestido_c': 'consumption_clothing_c', 'salud': 'consumption_health', 'limpieza': 'consumption_house', 'transporte': 'consumption_transportation', 'educacion': 'consumption_education', 'personal': 'consumption_personal', 'ingtot': 'income_total', 'ingcor': 'income_current', 'trabajo': 'income_salary', 'negocio': 'income_business', 'rentas': 'income_rental', 'transfer': 'income_transfers', 'otros': 'income_other', 'pertot': 'financial_income', 'eromon': 'financial_expenditures', 'tam_hog': 'hh_size'}\n",
      "{'folio': 'hhid', 'folioviv': 'hhid', 'paren': 'relationship_to_hhm', 'parentesco': 'relationship_to_hhm', 'sexo': 'sex', 'edad': 'age', 'tipo_esc': 'type_of_education', 'n_instr141': 'education', 'n_instr161': 'education', 'ed_formal': 'education', 'ed_tecnica': 'education_technical'}\n"
     ]
    }
   ],
   "source": [
    "os.chdir(dicts)\n",
    "rename_main = json_utils.load_json('rename_main.json')\n",
    "rename_population = json_utils.load_json('rename_population.json')\n",
    "rename_income = json_utils.load_json('rename_income.json')\n",
    "rename_location = json_utils.load_json('states.json')\n",
    "\n",
    "hhm_ids = json_utils.load_json('hhm_ids.json')\n",
    "education = json_utils.load_json('education.json')\n",
    "\n",
    "print(rename_main)\n",
    "print(rename_population)"
   ]
  },
  {
   "cell_type": "code",
   "execution_count": 203,
   "metadata": {},
   "outputs": [
    {
     "data": {
      "text/plain": [
       "{'1992': [1, 2],\n",
       " '1994': [1, 2],\n",
       " '1996': [1, 2],\n",
       " '1998': [1, 2],\n",
       " '2000': [1, 2],\n",
       " '2002': [10, 11, 12],\n",
       " '2004': [100],\n",
       " '2006': [100],\n",
       " '2008': [101]}"
      ]
     },
     "execution_count": 203,
     "metadata": {},
     "output_type": "execute_result"
    }
   ],
   "source": [
    "# values that identify household head; change with year\n",
    "hhm_ids"
   ]
  },
  {
   "cell_type": "code",
   "execution_count": 204,
   "metadata": {},
   "outputs": [
    {
     "data": {
      "text/plain": [
       "{'1992': {'0': 'Low',\n",
       "  '1': 'Low',\n",
       "  '2': 'Low',\n",
       "  '3': 'Medium',\n",
       "  '4': 'Medium',\n",
       "  '5': 'Medium',\n",
       "  '6': 'Medium',\n",
       "  '7': 'High',\n",
       "  '8': 'High',\n",
       "  '9': 'High'},\n",
       " '1994': {'0': 'Low',\n",
       "  '1': 'Low',\n",
       "  '2': 'Low',\n",
       "  '3': 'Medium',\n",
       "  '4': 'Medium',\n",
       "  '5': 'Medium',\n",
       "  '6': 'Medium',\n",
       "  '7': 'High',\n",
       "  '8': 'High',\n",
       "  '9': 'High'},\n",
       " '1996': {'0': 'Low',\n",
       "  '1': 'Low',\n",
       "  '2': 'Low',\n",
       "  '3': 'Low',\n",
       "  '4': 'Low',\n",
       "  '5': 'Low',\n",
       "  '6': 'Low',\n",
       "  '7': 'Low',\n",
       "  '8': 'Medium',\n",
       "  '9': 'Medium',\n",
       "  '10': 'Medium',\n",
       "  '11': 'Medium',\n",
       "  '12': 'Medium',\n",
       "  '13': 'High',\n",
       "  '14': 'High',\n",
       "  '15': 'High',\n",
       "  '16': 'High'},\n",
       " '1998': {'0': 'Low',\n",
       "  '1': 'Low',\n",
       "  '2': 'Low',\n",
       "  '3': 'Low',\n",
       "  '4': 'Low',\n",
       "  '5': 'Low',\n",
       "  '6': 'Low',\n",
       "  '7': 'Low',\n",
       "  '8': 'Low',\n",
       "  '9': 'Medium',\n",
       "  '10': 'Medium',\n",
       "  '11': 'Medium',\n",
       "  '12': 'Medium',\n",
       "  '13': 'Medium',\n",
       "  '14': 'High',\n",
       "  '15': 'High',\n",
       "  '16': 'High'},\n",
       " '2000': {'0': 'Low',\n",
       "  '1': 'Low',\n",
       "  '2': 'Low',\n",
       "  '3': 'Low',\n",
       "  '4': 'Low',\n",
       "  '5': 'Low',\n",
       "  '6': 'Low',\n",
       "  '7': 'Low',\n",
       "  '8': 'Low',\n",
       "  '9': 'Medium',\n",
       "  '10': 'Medium',\n",
       "  '11': 'Medium',\n",
       "  '12': 'Medium',\n",
       "  '13': 'Medium',\n",
       "  '14': 'High',\n",
       "  '15': 'High',\n",
       "  '16': 'High'},\n",
       " '2002': {'0': 'Low',\n",
       "  '1': 'Low',\n",
       "  '2': 'Low',\n",
       "  '3': 'Low',\n",
       "  '4': 'Low',\n",
       "  '5': 'Low',\n",
       "  '6': 'Low',\n",
       "  '7': 'Low',\n",
       "  '8': 'Low',\n",
       "  '9': 'Medium',\n",
       "  '10': 'Medium',\n",
       "  '11': 'Medium',\n",
       "  '12': 'Medium',\n",
       "  '13': 'Medium',\n",
       "  '14': 'Medium',\n",
       "  '15': 'Medium',\n",
       "  '16': 'Medium',\n",
       "  '17': 'Medium',\n",
       "  '18': 'Medium',\n",
       "  '19': 'Medium',\n",
       "  '20': 'Medium',\n",
       "  '21': 'High',\n",
       "  '22': 'High',\n",
       "  '23': 'High',\n",
       "  '24': 'High',\n",
       "  '25': 'High',\n",
       "  '26': 'High',\n",
       "  '27': 'High',\n",
       "  '28': 'High',\n",
       "  '29': 'High',\n",
       "  '30': 'High',\n",
       "  '31': 'High',\n",
       "  '32': 'High',\n",
       "  '33': 'High'},\n",
       " '2004': {'0': 'Low',\n",
       "  '1': 'Low',\n",
       "  '2': 'Medium',\n",
       "  '3': 'Medium',\n",
       "  '4': 'Medium',\n",
       "  '5': 'Medium',\n",
       "  '6': 'High',\n",
       "  '7': 'High',\n",
       "  '8': 'High',\n",
       "  '9': 'High'},\n",
       " '2006': {'0': 'Low',\n",
       "  '1': 'Low',\n",
       "  '2': 'Low',\n",
       "  '3': 'Medium',\n",
       "  '4': 'Medium',\n",
       "  '5': 'High',\n",
       "  '6': 'High',\n",
       "  '7': 'High',\n",
       "  '8': 'High',\n",
       "  '9': 'High'},\n",
       " '2008': {'0': 'Low',\n",
       "  '1': 'Low',\n",
       "  '2': 'Low',\n",
       "  '3': 'Medium',\n",
       "  '4': 'Medium',\n",
       "  '5': 'Medium',\n",
       "  '6': 'High',\n",
       "  '7': 'High',\n",
       "  '8': 'High',\n",
       "  '9': 'High'}}"
      ]
     },
     "execution_count": 204,
     "metadata": {},
     "output_type": "execute_result"
    }
   ],
   "source": [
    "# values that identify education; change with year\n",
    "education"
   ]
  },
  {
   "cell_type": "markdown",
   "metadata": {},
   "source": [
    "## Initial EDA: 1994 only"
   ]
  },
  {
   "cell_type": "code",
   "execution_count": 205,
   "metadata": {},
   "outputs": [],
   "source": [
    "year = '1994'\n",
    "os.chdir(raw + year)\n",
    "main = Dbf5('main.dbf').to_dataframe()\n",
    "population = Dbf5('population.dbf').to_dataframe()\n",
    "\n",
    "main.columns = [x.lower() for x in main.columns]\n",
    "population.columns = [x.lower() for x in population.columns]"
   ]
  },
  {
   "cell_type": "code",
   "execution_count": 206,
   "metadata": {},
   "outputs": [],
   "source": [
    "main = main.rename(columns = rename_main)\n",
    "population = population.rename(columns = rename_population)\n",
    "\n",
    "keep_main = list(set(rename_main.values()) & set (main.columns))\n",
    "keep_population = list(set(rename_population.values()) & set (population.columns))\n",
    "\n",
    "main = main[keep_main]\n",
    "population = population[keep_population]"
   ]
  },
  {
   "cell_type": "code",
   "execution_count": 207,
   "metadata": {},
   "outputs": [
    {
     "name": "stdout",
     "output_type": "stream",
     "text": [
      "<class 'pandas.core.frame.DataFrame'>\n",
      "RangeIndex: 12815 entries, 0 to 12814\n",
      "Data columns (total 23 columns):\n",
      " #   Column                      Non-Null Count  Dtype  \n",
      "---  ------                      --------------  -----  \n",
      " 0   consumption_transportation  12815 non-null  float64\n",
      " 1   income_salary               12815 non-null  float64\n",
      " 2   income_total                12815 non-null  float64\n",
      " 3   location_size               12815 non-null  object \n",
      " 4   hhid                        12815 non-null  object \n",
      " 5   consumption_food            12815 non-null  float64\n",
      " 6   consumption_clothing        12815 non-null  float64\n",
      " 7   consumption_total           12815 non-null  float64\n",
      " 8   weight                      12815 non-null  float64\n",
      " 9   income_rental               12815 non-null  float64\n",
      " 10  location                    12815 non-null  object \n",
      " 11  income_transfers            12815 non-null  float64\n",
      " 12  income_current              12815 non-null  float64\n",
      " 13  financial_expenditures      12815 non-null  float64\n",
      " 14  consumption_house           12815 non-null  float64\n",
      " 15  consumption_personal        12815 non-null  float64\n",
      " 16  consumption_health          12815 non-null  float64\n",
      " 17  income_other                12815 non-null  float64\n",
      " 18  financial_income            12815 non-null  float64\n",
      " 19  consumption_current         12815 non-null  float64\n",
      " 20  hh_size                     12815 non-null  int64  \n",
      " 21  income_business             12815 non-null  float64\n",
      " 22  consumption_education       12815 non-null  float64\n",
      "dtypes: float64(19), int64(1), object(3)\n",
      "memory usage: 2.2+ MB\n"
     ]
    }
   ],
   "source": [
    "main.info()"
   ]
  },
  {
   "cell_type": "code",
   "execution_count": 208,
   "metadata": {},
   "outputs": [
    {
     "name": "stdout",
     "output_type": "stream",
     "text": [
      "<class 'pandas.core.frame.DataFrame'>\n",
      "RangeIndex: 60353 entries, 0 to 60352\n",
      "Data columns (total 7 columns):\n",
      " #   Column               Non-Null Count  Dtype \n",
      "---  ------               --------------  ----- \n",
      " 0   hhid                 60353 non-null  object\n",
      " 1   sex                  60353 non-null  object\n",
      " 2   education_technical  60353 non-null  object\n",
      " 3   education            60353 non-null  object\n",
      " 4   relationship_to_hhm  60353 non-null  object\n",
      " 5   age                  60353 non-null  int64 \n",
      " 6   type_of_education    60353 non-null  object\n",
      "dtypes: int64(1), object(6)\n",
      "memory usage: 3.2+ MB\n"
     ]
    }
   ],
   "source": [
    "population.info()"
   ]
  },
  {
   "cell_type": "code",
   "execution_count": 209,
   "metadata": {},
   "outputs": [
    {
     "data": {
      "text/plain": [
       "consumption_transportation    0\n",
       "income_salary                 0\n",
       "income_total                  0\n",
       "location_size                 0\n",
       "hhid                          0\n",
       "consumption_food              0\n",
       "consumption_clothing          0\n",
       "consumption_total             0\n",
       "weight                        0\n",
       "income_rental                 0\n",
       "location                      0\n",
       "income_transfers              0\n",
       "income_current                0\n",
       "financial_expenditures        0\n",
       "consumption_house             0\n",
       "consumption_personal          0\n",
       "consumption_health            0\n",
       "income_other                  0\n",
       "financial_income              0\n",
       "consumption_current           0\n",
       "hh_size                       0\n",
       "income_business               0\n",
       "consumption_education         0\n",
       "dtype: int64"
      ]
     },
     "execution_count": 209,
     "metadata": {},
     "output_type": "execute_result"
    }
   ],
   "source": [
    "main.isna().sum()"
   ]
  },
  {
   "cell_type": "code",
   "execution_count": 210,
   "metadata": {},
   "outputs": [
    {
     "data": {
      "text/plain": [
       "hhid                   0\n",
       "sex                    0\n",
       "education_technical    0\n",
       "education              0\n",
       "relationship_to_hhm    0\n",
       "age                    0\n",
       "type_of_education      0\n",
       "dtype: int64"
      ]
     },
     "execution_count": 210,
     "metadata": {},
     "output_type": "execute_result"
    }
   ],
   "source": [
    "population.isna().sum()"
   ]
  },
  {
   "cell_type": "code",
   "execution_count": 212,
   "metadata": {},
   "outputs": [
    {
     "data": {
      "text/plain": [
       "<Axes: >"
      ]
     },
     "execution_count": 212,
     "metadata": {},
     "output_type": "execute_result"
    },
    {
     "data": {
      "image/png": "[encoded data removed]",
      "text/plain": [
       "<Figure size 640x480 with 1 Axes>"
      ]
     },
     "metadata": {},
     "output_type": "display_data"
    }
   ],
   "source": [
    "population['sex'].hist()"
   ]
  },
  {
   "cell_type": "code",
   "execution_count": 213,
   "metadata": {},
   "outputs": [
    {
     "data": {
      "text/plain": [
       "<Axes: >"
      ]
     },
     "execution_count": 213,
     "metadata": {},
     "output_type": "execute_result"
    },
    {
     "data": {
      "image/png": "[encoded data removed]",
      "text/plain": [
       "<Figure size 640x480 with 1 Axes>"
      ]
     },
     "metadata": {},
     "output_type": "display_data"
    }
   ],
   "source": [
    "population['education'].hist()"
   ]
  },
  {
   "cell_type": "code",
   "execution_count": 183,
   "metadata": {},
   "outputs": [
    {
     "name": "stdout",
     "output_type": "stream",
     "text": [
      "main duplicates: 0\n"
     ]
    }
   ],
   "source": [
    "# check for duplicates along primary key hhid\n",
    "print('main duplicates:', main.hhid.duplicated().sum())"
   ]
  },
  {
   "cell_type": "code",
   "execution_count": 184,
   "metadata": {},
   "outputs": [
    {
     "name": "stdout",
     "output_type": "stream",
     "text": [
      "-------------------------------------\n",
      "Making year 1994\n",
      "Number of people: 60353\n",
      "Number of households: 12815\n",
      "Number of household heads 12815\n",
      "-------------------------------------\n",
      "Making year 1996\n",
      "Number of people: 64916\n",
      "Number of households: 14042\n",
      "Number of household heads 14042\n"
     ]
    }
   ],
   "source": [
    "years = ['1994', '1996']\n",
    "dfs = []\n",
    "\n",
    "for year in years:\n",
    "    print('-------------------------------------')\n",
    "    print('Making year ' + year)\n",
    "    os.chdir(raw + year)\n",
    "    main = Dbf5('main.dbf').to_dataframe()\n",
    "    population = Dbf5('population.dbf').to_dataframe()\n",
    "\n",
    "    print('Number of people:', len(population))\n",
    "    print('Number of households:', len(main))\n",
    "\n",
    "    main.columns = [x.lower() for x in main.columns]\n",
    "    population.columns = [x.lower() for x in population.columns]\n",
    "     \n",
    "    # rename to english column names\n",
    "    main = main.rename(columns = rename_main)\n",
    "    population = population.rename(columns = rename_population)\n",
    "\n",
    "    keep_main = list(set(rename_main.values()) & set (main.columns))\n",
    "    keep_population = list(set(rename_population.values()) & set (population.columns))\n",
    "\n",
    "    # only keep selected columns; a column is only kept if it is renamed\n",
    "    main = main[keep_main]\n",
    "    population = population[keep_population]\n",
    "\n",
    "    # identify the head of household and restrict population data to household heads\n",
    "    population['relationship_to_hhm'] = population['relationship_to_hhm'].astype('int')\n",
    "    population['is_household_head'] = population['relationship_to_hhm'].apply(lambda x : x in hhm_ids[year])\n",
    "    population = population.query('is_household_head == True')\n",
    "    print('Number of household heads', len(population))\n",
    "\n",
    "    # reformat education; can change depending on year\n",
    "    population['education'] = (population['education']\n",
    "                               .astype(int)\n",
    "                               .apply(lambda x : education[year][str(x)])\n",
    "                               .astype(str))\n",
    "\n",
    "    # merge main variables with demographic data\n",
    "    # merge on hhid - household identification number\n",
    "    df = main.merge(population, on='hhid')\n",
    "\n",
    "    # add year indicator\n",
    "    df['Y'] = int(year)\n",
    "\n",
    "    # add to list of dataframes for each year\n",
    "    dfs.append(df)"
   ]
  },
  {
   "cell_type": "code",
   "execution_count": 185,
   "metadata": {},
   "outputs": [
    {
     "name": "stdout",
     "output_type": "stream",
     "text": [
      "<class 'pandas.core.frame.DataFrame'>\n",
      "RangeIndex: 26857 entries, 0 to 26856\n",
      "Data columns (total 31 columns):\n",
      " #   Column                      Non-Null Count  Dtype  \n",
      "---  ------                      --------------  -----  \n",
      " 0   consumption_transportation  26857 non-null  float64\n",
      " 1   income_salary               26857 non-null  float64\n",
      " 2   income_total                26857 non-null  float64\n",
      " 3   location_size               26857 non-null  object \n",
      " 4   hhid                        26857 non-null  object \n",
      " 5   consumption_food            26857 non-null  float64\n",
      " 6   consumption_clothing        26857 non-null  float64\n",
      " 7   consumption_total           26857 non-null  float64\n",
      " 8   weight                      26857 non-null  float64\n",
      " 9   income_rental               26857 non-null  float64\n",
      " 10  location                    26857 non-null  object \n",
      " 11  income_transfers            26857 non-null  float64\n",
      " 12  income_current              26857 non-null  float64\n",
      " 13  financial_expenditures      26857 non-null  float64\n",
      " 14  consumption_house           26857 non-null  float64\n",
      " 15  consumption_personal        26857 non-null  float64\n",
      " 16  consumption_health          26857 non-null  float64\n",
      " 17  income_other                26857 non-null  float64\n",
      " 18  financial_income            26857 non-null  float64\n",
      " 19  consumption_current         26857 non-null  float64\n",
      " 20  hh_size                     26857 non-null  int64  \n",
      " 21  income_business             26857 non-null  float64\n",
      " 22  consumption_education       26857 non-null  float64\n",
      " 23  sex                         26857 non-null  object \n",
      " 24  education_technical         26857 non-null  object \n",
      " 25  education                   26857 non-null  object \n",
      " 26  relationship_to_hhm         26857 non-null  int64  \n",
      " 27  age                         26857 non-null  int64  \n",
      " 28  type_of_education           26857 non-null  object \n",
      " 29  is_household_head           26857 non-null  bool   \n",
      " 30  Y                           26857 non-null  int64  \n",
      "dtypes: bool(1), float64(19), int64(4), object(7)\n",
      "memory usage: 6.2+ MB\n"
     ]
    }
   ],
   "source": [
    "# collect yearly dataframes into a single dataframe\n",
    "df = pd.concat(dfs).reset_index(drop=True)\n",
    "df.info()"
   ]
  },
  {
   "cell_type": "markdown",
   "metadata": {},
   "source": [
    "# Gender"
   ]
  },
  {
   "cell_type": "code",
   "execution_count": 186,
   "metadata": {},
   "outputs": [
    {
     "data": {
      "text/plain": [
       "sex\n",
       "Male      22899\n",
       "Female     3958\n",
       "Name: count, dtype: int64"
      ]
     },
     "execution_count": 186,
     "metadata": {},
     "output_type": "execute_result"
    }
   ],
   "source": [
    "# sex of household head, is biased towards male\n",
    "df['sex'] = df['sex'].replace({'1' : 'Male', '2':'Female'})\n",
    "df.sex.value_counts(dropna=False)"
   ]
  },
  {
   "cell_type": "markdown",
   "metadata": {},
   "source": [
    "# Location"
   ]
  },
  {
   "cell_type": "code",
   "execution_count": 187,
   "metadata": {},
   "outputs": [
    {
     "data": {
      "text/plain": [
       "location\n",
       "Durango                2103\n",
       "Mexico City            2005\n",
       "Chiapas                1744\n",
       "State of Mexico        1322\n",
       "Veracruz               1272\n",
       "Tabasco                1218\n",
       "Puebla                 1188\n",
       "Guerrero               1159\n",
       "Aguascalientes         1105\n",
       "Jalisco                1103\n",
       "Campeche               1076\n",
       "Oaxaca                 1044\n",
       "Nuevo Leon              748\n",
       "Tlaxcala                563\n",
       "Coahuila                557\n",
       "Sinaloa                 554\n",
       "Colima                  543\n",
       "Guanajuato              535\n",
       "Hidalgo                 535\n",
       "Sonora                  530\n",
       "Zacatecas               528\n",
       "Michoacan               528\n",
       "Queretaro               519\n",
       "San Luis Potosi         511\n",
       "Yucatan                 509\n",
       "Nayarit                 496\n",
       "Tamaulipas              492\n",
       "Morelos                 487\n",
       "Quintana Roo            480\n",
       "Baja California Sur     470\n",
       "Chihuahua               467\n",
       "Baja California         466\n",
       "Name: count, dtype: int64"
      ]
     },
     "execution_count": 187,
     "metadata": {},
     "output_type": "execute_result"
    }
   ],
   "source": [
    "df['location'] = df.location.str[:2].astype(int)\n",
    "df['location'] = df['location'].astype(str).replace(rename_location)\n",
    "df['location'].value_counts()"
   ]
  },
  {
   "cell_type": "markdown",
   "metadata": {},
   "source": [
    "## Income and Consumption: Normalization and Outliers\n",
    "- This section normalizes income and consumption by two variables\n",
    "  - The size of the household, as larger households have larger expenditures and workers\n",
    "  - The price level (cpi), which changes over time\n",
    "- I remove households that \n",
    "  - Earn zero income\n",
    "  - Have zero consumption\n",
    "  - Are above the 99.9% percentile of consumption or income"
   ]
  },
  {
   "cell_type": "code",
   "execution_count": 188,
   "metadata": {},
   "outputs": [],
   "source": [
    "income_sources = ['income_salary', 'income_business', 'income_transfers']\n",
    "consumption_sources = ['consumption_food', 'consumption_personal', 'consumption_clothing']\n",
    "\n",
    "df['income'] = df[income_sources].sum(axis=1)\n",
    "df['consumption'] = df[consumption_sources].sum(axis=1)"
   ]
  },
  {
   "cell_type": "code",
   "execution_count": 189,
   "metadata": {},
   "outputs": [],
   "source": [
    "\"\"\"Normalization\n",
    "This section normalizes income and consumption measures by two factors:\n",
    "1. Household size (hh_size)\n",
    "2. The price level at the time, given by the cpi (cpi)\n",
    "\"\"\"\n",
    "df = df.merge(cpi, on='Y', how='left')\n",
    "for column in df.columns:\n",
    "    if 'income' in column or 'consumption' in column:\n",
    "        df[column]  = df[column] / df['cpi']\n",
    "        df[column] = df[column] / df['hh_size']"
   ]
  },
  {
   "cell_type": "code",
   "execution_count": 190,
   "metadata": {},
   "outputs": [
    {
     "name": "stdout",
     "output_type": "stream",
     "text": [
      "Lost due to zero consumption: 0.43564061510965485 %\n",
      "Lost due to zero income: 0.512341062079282 %\n"
     ]
    }
   ],
   "source": [
    "# remove households that do not consume anything in our primary measure\n",
    "len_init = len(df)\n",
    "df = df[df.consumption > 0]\n",
    "len_finish = len(df)\n",
    "print('Lost due to zero consumption:', 100*(len_init - len_finish) / len_init, '%')\n",
    "\n",
    "# remove household that earn no income\n",
    "len_init = len(df)\n",
    "df = df[df.income > 0]\n",
    "len_finish = len(df)\n",
    "print('Lost due to zero income:', 100*(len_init - len_finish) / len_init, '%')"
   ]
  },
  {
   "cell_type": "code",
   "execution_count": 191,
   "metadata": {},
   "outputs": [
    {
     "name": "stdout",
     "output_type": "stream",
     "text": [
      "Lost due to consumption:0.10 %\n",
      "Lost due to income:0.10 %\n"
     ]
    }
   ],
   "source": [
    "# remove right tail outliers for consumption and income \n",
    "q_999 = lambda x : np.quantile(x, 0.999)\n",
    "\n",
    "len_init = len(df)\n",
    "df = df[df.consumption <= df.groupby('Y', as_index=False)['consumption'].transform(q_999)]\n",
    "len_final = len(df)\n",
    "print(f'Lost due to consumption:{100*(len_init - len_final) / len_init :.2f} %')\n",
    "\n",
    "len_init = len(df)\n",
    "df = df[df.income <= df.groupby('Y', as_index=False)['income'].transform(q_999)]\n",
    "len_final = len(df)\n",
    "print(f'Lost due to income:{100*(len_init - len_final) / len_init :.2f} %')"
   ]
  },
  {
   "cell_type": "code",
   "execution_count": 192,
   "metadata": {},
   "outputs": [],
   "source": [
    "# form log income and log consumption for modeling\n",
    "df['log_income'] = np.log(df['income'])\n",
    "df['log_consumption'] = np.log(df['consumption'])"
   ]
  },
  {
   "cell_type": "markdown",
   "metadata": {},
   "source": [
    "# Education"
   ]
  },
  {
   "cell_type": "code",
   "execution_count": 193,
   "metadata": {},
   "outputs": [
    {
     "data": {
      "text/plain": [
       "education\n",
       "Low       18095\n",
       "Medium     6028\n",
       "High       2426\n",
       "Name: count, dtype: int64"
      ]
     },
     "execution_count": 193,
     "metadata": {},
     "output_type": "execute_result"
    }
   ],
   "source": [
    "df['education'] = pd.Categorical(df['education'], categories=['Low', 'Medium', 'High'], ordered=True)\n",
    "df['education'] = df['education'].cat.reorder_categories(['Low', 'Medium', 'High'])\n",
    "df.education.value_counts(dropna=False)"
   ]
  },
  {
   "cell_type": "markdown",
   "metadata": {},
   "source": [
    "# Controlling for age\n",
    "1. This section controls for age \n",
    "2. We want to remove 'young' households that are just starting, and old households that rely on financial income\n",
    "3. Because our observations are at the level of the household head, who is typically middle age, we only lose 0.2% of observations "
   ]
  },
  {
   "cell_type": "code",
   "execution_count": 194,
   "metadata": {},
   "outputs": [
    {
     "data": {
      "text/plain": [
       "Text(0.5, 1.0, 'Distribution of Age')"
      ]
     },
     "execution_count": 194,
     "metadata": {},
     "output_type": "execute_result"
    },
    {
     "data": {
      "image/png": "[encoded data removed]",
      "text/plain": [
       "<Figure size 640x480 with 1 Axes>"
      ]
     },
     "metadata": {},
     "output_type": "display_data"
    }
   ],
   "source": [
    "df['age'].hist()\n",
    "plt.xlabel('Age')\n",
    "plt.title('Distribution of Age')"
   ]
  },
  {
   "cell_type": "code",
   "execution_count": 195,
   "metadata": {},
   "outputs": [
    {
     "name": "stdout",
     "output_type": "stream",
     "text": [
      "Lost due to age: 0.23164714301856945 %\n"
     ]
    }
   ],
   "source": [
    "# add square of age for later modeling\n",
    "df['age_sq'] = df['age']**2\n",
    "\n",
    "# remove household heads out of age bounds\n",
    "len_init = len(df)\n",
    "df = (df.query('age>=25')\n",
    "      .query('age<=60'))\n",
    "len_finish = len(df)\n",
    "print('Lost due to age:', (len_init - len_finish) / len_init, '%')"
   ]
  },
  {
   "cell_type": "code",
   "execution_count": 196,
   "metadata": {},
   "outputs": [],
   "source": [
    "os.chdir(interim)\n",
    "df.to_csv('main.csv', index=False)"
   ]
  }
 ],
 "metadata": {
  "kernelspec": {
   "display_name": "main",
   "language": "python",
   "name": "python3"
  },
  "language_info": {
   "codemirror_mode": {
    "name": "ipython",
    "version": 3
   },
   "file_extension": ".py",
   "mimetype": "text/x-python",
   "name": "python",
   "nbconvert_exporter": "python",
   "pygments_lexer": "ipython3",
   "version": "3.9.6"
  }
 },
 "nbformat": 4,
 "nbformat_minor": 2
}
