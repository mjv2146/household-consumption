{
 "cells": [
  {
   "cell_type": "code",
   "execution_count": 74,
   "metadata": {},
   "outputs": [],
   "source": [
    "import pandas as pd\n",
    "import numpy as np\n",
    "import matplotlib.pyplot as plt\n",
    "\n",
    "import sys; \n",
    "#sys.path.append('/home/mitch/school/data/mexico_enigh/src/')\n",
    "sys.path.append('../src')\n",
    "sys.path.append('/home/mitch/school/data/mexico_enigh/dicts/')\n",
    "sys.path.append('/home/mitch/util/python/')\n",
    "import json_utils\n",
    "\n",
    "import utils\n",
    "import os\n",
    "\n",
    "from simpledbf import Dbf5"
   ]
  },
  {
   "cell_type": "code",
   "execution_count": 75,
   "metadata": {},
   "outputs": [],
   "source": [
    "raw  = '/home/mitch/Dropbox/data/mexico_enigh/raw/'\n",
    "interim = '/home/mitch/Dropbox/data/mexico_enigh/interim2/'\n",
    "dicts = '/home/mitch/github/ENIGH/dicts/'"
   ]
  },
  {
   "cell_type": "code",
   "execution_count": 76,
   "metadata": {},
   "outputs": [],
   "source": [
    "cpidir = '/home/mitch/Dropbox/data/cpi/'\n",
    "os.chdir(cpidir)\n",
    "cpi = pd.read_csv('cpi_annual.csv')\n",
    "cpi = cpi.rename(columns = {'time':'Y', 'PCPI_IX':'cpi'})\n",
    "cpi = cpi.query('country == \"MX\"')\n",
    "cpi = cpi.drop(columns=['Unnamed: 0', 'country'])"
   ]
  },
  {
   "cell_type": "code",
   "execution_count": 77,
   "metadata": {},
   "outputs": [
    {
     "name": "stdout",
     "output_type": "stream",
     "text": [
      "{'folio': 'hhid', 'folioviv': 'hhid', 'ubica_geo': 'location', 'factor': 'weight', 'hog': 'weight', 'estrato': 'location_size', 'gastot': 'consumption_total', 'gascor': 'consumption_current', 'alimentos': 'consumption_food', 'vestido': 'consumption_clothing', 'vestido_c': 'consumption_clothing_c', 'salud': 'consumption_health', 'limpieza': 'consumption_house', 'transporte': 'consumption_transportation', 'educacion': 'consumption_education', 'personal': 'consumption_personal', 'ingtot': 'income_total', 'ingcor': 'income_current', 'trabajo': 'income_salary', 'negocio': 'income_business', 'rentas': 'income_rental', 'transfer': 'income_transfers', 'otros': 'income_other', 'pertot': 'financial_income', 'eromon': 'financial_expenditures', 'tam_hog': 'hh_size'}\n",
      "{'folio': 'hhid', 'folioviv': 'hhid', 'paren': 'relationship_to_hhm', 'parentesco': 'relationship_to_hhm', 'sexo': 'sex', 'edad': 'age', 'tipo_esc': 'type_of_education', 'n_instr141': 'education', 'n_instr161': 'education', 'ed_formal': 'education', 'ed_tecnica': 'education_technical'}\n"
     ]
    }
   ],
   "source": [
    "os.chdir(dicts)\n",
    "rename_main = json_utils.load_json('rename_main.json')\n",
    "rename_population = json_utils.load_json('rename_population.json')\n",
    "rename_income = json_utils.load_json('rename_income.json')\n",
    "rename_location = json_utils.load_json('states.json')\n",
    "hhm_ids = json_utils.load_json('hhm_ids.json')\n",
    "education = json_utils.load_json('education.json')\n",
    "print(rename_main)\n",
    "print(rename_population)"
   ]
  },
  {
   "cell_type": "code",
   "execution_count": 78,
   "metadata": {},
   "outputs": [],
   "source": [
    "year = '1994'\n",
    "os.chdir(raw + year)\n",
    "main = Dbf5('main.dbf').to_dataframe()\n",
    "population = Dbf5('population.dbf').to_dataframe()\n",
    "\n",
    "main.columns = [x.lower() for x in main.columns]\n",
    "population.columns = [x.lower() for x in population.columns]"
   ]
  },
  {
   "cell_type": "code",
   "execution_count": 79,
   "metadata": {},
   "outputs": [
    {
     "name": "stdout",
     "output_type": "stream",
     "text": [
      "<class 'pandas.core.frame.DataFrame'>\n",
      "RangeIndex: 12815 entries, 0 to 12814\n",
      "Data columns (total 49 columns):\n",
      " #   Column      Non-Null Count  Dtype  \n",
      "---  ------      --------------  -----  \n",
      " 0   folio       12815 non-null  object \n",
      " 1   ubica_geo   12815 non-null  object \n",
      " 2   hog         12815 non-null  float64\n",
      " 3   estrato     12815 non-null  object \n",
      " 4   ingmon      12815 non-null  float64\n",
      " 5   permon      12815 non-null  float64\n",
      " 6   gasnom      12815 non-null  float64\n",
      " 7   eronom      12815 non-null  float64\n",
      " 8   ingcor      12815 non-null  float64\n",
      " 9   gasmon      12815 non-null  float64\n",
      " 10  gascor      12815 non-null  float64\n",
      " 11  tam_hog     12815 non-null  int64  \n",
      " 12  hombres     12815 non-null  int64  \n",
      " 13  mujeres     12815 non-null  int64  \n",
      " 14  tot_resi    12815 non-null  int64  \n",
      " 15  tot_hom     12815 non-null  int64  \n",
      " 16  tot_muj     12815 non-null  int64  \n",
      " 17  ingtot      12815 non-null  float64\n",
      " 18  pertot      12815 non-null  float64\n",
      " 19  eromon      12815 non-null  float64\n",
      " 20  gastot      12815 non-null  float64\n",
      " 21  erotot      12815 non-null  float64\n",
      " 22  edad        12815 non-null  int64  \n",
      " 23  auto        12815 non-null  float64\n",
      " 24  pago        12815 non-null  float64\n",
      " 25  rega        12815 non-null  float64\n",
      " 26  esti        12815 non-null  float64\n",
      " 27  mayores     12815 non-null  int64  \n",
      " 28  menores     12815 non-null  int64  \n",
      " 29  p12_64      12815 non-null  int64  \n",
      " 30  p65mas      12815 non-null  int64  \n",
      " 31  n_ocup      12815 non-null  int64  \n",
      " 32  pering      12815 non-null  int64  \n",
      " 33  perocu      12815 non-null  int64  \n",
      " 34  alimentos   12815 non-null  float64\n",
      " 35  vestido     12815 non-null  float64\n",
      " 36  vivienda    12815 non-null  float64\n",
      " 37  limpieza    12815 non-null  float64\n",
      " 38  salud       12815 non-null  float64\n",
      " 39  transporte  12815 non-null  float64\n",
      " 40  educacion   12815 non-null  float64\n",
      " 41  personal    12815 non-null  float64\n",
      " 42  trabajo     12815 non-null  float64\n",
      " 43  negocio     12815 non-null  float64\n",
      " 44  rentas      12815 non-null  float64\n",
      " 45  transfer    12815 non-null  float64\n",
      " 46  otros       12815 non-null  float64\n",
      " 47  bebidas     12815 non-null  float64\n",
      " 48  smg         12815 non-null  float64\n",
      "dtypes: float64(32), int64(14), object(3)\n",
      "memory usage: 4.8+ MB\n"
     ]
    }
   ],
   "source": [
    "main.info()"
   ]
  },
  {
   "cell_type": "code",
   "execution_count": 80,
   "metadata": {},
   "outputs": [
    {
     "name": "stdout",
     "output_type": "stream",
     "text": [
      "<class 'pandas.core.frame.DataFrame'>\n",
      "RangeIndex: 60353 entries, 0 to 60352\n",
      "Data columns (total 37 columns):\n",
      " #   Column      Non-Null Count  Dtype \n",
      "---  ------      --------------  ----- \n",
      " 0   folio       60353 non-null  object\n",
      " 1   num_ren     60353 non-null  object\n",
      " 2   parentesco  60353 non-null  object\n",
      " 3   sexo        60353 non-null  object\n",
      " 4   edad        60353 non-null  int64 \n",
      " 5   per_ing     60353 non-null  object\n",
      " 6   leer_esc    60353 non-null  object\n",
      " 7   asis_esc_f  60353 non-null  object\n",
      " 8   tipo_esc    60353 non-null  object\n",
      " 9   ed_formal   60353 non-null  object\n",
      " 10  ed_tecnica  60353 non-null  object\n",
      " 11  trabajo     60353 non-null  object\n",
      " 12  no_trabajo  60353 non-null  object\n",
      " 13  n_empleos   60353 non-null  int64 \n",
      " 14  ocupacion   60353 non-null  object\n",
      " 15  oc_donde    60353 non-null  object\n",
      " 16  rama        60353 non-null  object\n",
      " 17  ra_donde    60353 non-null  object\n",
      " 18  nom_empr    60353 non-null  object\n",
      " 19  posicion    60353 non-null  object\n",
      " 20  hrs_sem     60353 non-null  object\n",
      " 21  dia_pago    60353 non-null  object\n",
      " 22  prestacio1  60353 non-null  object\n",
      " 23  contrato1   60353 non-null  object\n",
      " 24  sindicato1  60353 non-null  object\n",
      " 25  ocup_sec    60353 non-null  object\n",
      " 26  oc_donde2   60353 non-null  object\n",
      " 27  rama_sec    60353 non-null  object\n",
      " 28  ra_donde2   60353 non-null  object\n",
      " 29  nom_empr2   60353 non-null  object\n",
      " 30  posici_sec  60353 non-null  object\n",
      " 31  hrs_sec     60353 non-null  object\n",
      " 32  dia_pago2   60353 non-null  object\n",
      " 33  prestacio2  60353 non-null  object\n",
      " 34  contrato2   60353 non-null  object\n",
      " 35  sindicato2  60353 non-null  object\n",
      " 36  tot_hrs     60353 non-null  object\n",
      "dtypes: int64(2), object(35)\n",
      "memory usage: 17.0+ MB\n"
     ]
    }
   ],
   "source": [
    "population.info()"
   ]
  },
  {
   "cell_type": "code",
   "execution_count": 81,
   "metadata": {},
   "outputs": [
    {
     "name": "stdout",
     "output_type": "stream",
     "text": [
      "-------------------------------------\n",
      "Making year 1994\n",
      "Number of houses: 12815\n",
      "Number of people: 60353\n",
      "Number of household heads 12815\n",
      "-------------------------------------\n",
      "Making year 1996\n",
      "Number of houses: 14042\n",
      "Number of people: 64916\n",
      "Number of household heads 14042\n"
     ]
    }
   ],
   "source": [
    "years = ['1994', '1996']\n",
    "dfs = []\n",
    "\n",
    "for year in years:\n",
    "    print('-------------------------------------')\n",
    "    print('Making year ' + year)\n",
    "    os.chdir(raw + year)\n",
    "    main = Dbf5('main.dbf').to_dataframe()\n",
    "    population = Dbf5('population.dbf').to_dataframe()\n",
    "\n",
    "    print('Number of houses:', len(main))\n",
    "    print('Number of people:', len(population))\n",
    "\n",
    "    main.columns = [x.lower() for x in main.columns]\n",
    "    population.columns = [x.lower() for x in population.columns]\n",
    "     \n",
    "    main = main.rename(columns = rename_main)\n",
    "    population = population.rename(columns = rename_population)\n",
    "\n",
    "    keep_main = list(set(rename_main.values()) & set (main.columns))\n",
    "    keep_population = list(set(rename_population.values()) & set (population.columns))\n",
    "\n",
    "    main = main[keep_main]\n",
    "    population = population[keep_population]\n",
    "\n",
    "    population['relationship_to_hhm'] = population['relationship_to_hhm'].astype('int')\n",
    "    population['is_household_head'] = population['relationship_to_hhm'].apply(lambda x : x in hhm_ids[year])\n",
    "\n",
    "    population = population.query('is_household_head == True')\n",
    "    print('Number of household heads', len(population))\n",
    "    population['education'] = (population['education']\n",
    "                               .astype(int)\n",
    "                               .apply(lambda x : education[year][str(x)])\n",
    "                               .astype(str))\n",
    "\n",
    "    df = main.merge(population, on='hhid')\n",
    "\n",
    "    # add year indicator\n",
    "    df['Y'] = int(year)\n",
    "    dfs.append(df)"
   ]
  },
  {
   "cell_type": "code",
   "execution_count": 82,
   "metadata": {},
   "outputs": [
    {
     "name": "stdout",
     "output_type": "stream",
     "text": [
      "<class 'pandas.core.frame.DataFrame'>\n",
      "RangeIndex: 26857 entries, 0 to 26856\n",
      "Data columns (total 31 columns):\n",
      " #   Column                      Non-Null Count  Dtype  \n",
      "---  ------                      --------------  -----  \n",
      " 0   consumption_current         26857 non-null  float64\n",
      " 1   location_size               26857 non-null  object \n",
      " 2   hhid                        26857 non-null  object \n",
      " 3   consumption_food            26857 non-null  float64\n",
      " 4   income_current              26857 non-null  float64\n",
      " 5   hh_size                     26857 non-null  int64  \n",
      " 6   consumption_total           26857 non-null  float64\n",
      " 7   consumption_personal        26857 non-null  float64\n",
      " 8   consumption_clothing        26857 non-null  float64\n",
      " 9   income_business             26857 non-null  float64\n",
      " 10  income_salary               26857 non-null  float64\n",
      " 11  income_transfers            26857 non-null  float64\n",
      " 12  income_other                26857 non-null  float64\n",
      " 13  weight                      26857 non-null  float64\n",
      " 14  consumption_house           26857 non-null  float64\n",
      " 15  location                    26857 non-null  object \n",
      " 16  financial_expenditures      26857 non-null  float64\n",
      " 17  consumption_health          26857 non-null  float64\n",
      " 18  income_total                26857 non-null  float64\n",
      " 19  income_rental               26857 non-null  float64\n",
      " 20  consumption_education       26857 non-null  float64\n",
      " 21  financial_income            26857 non-null  float64\n",
      " 22  consumption_transportation  26857 non-null  float64\n",
      " 23  sex                         26857 non-null  object \n",
      " 24  type_of_education           26857 non-null  object \n",
      " 25  age                         26857 non-null  int64  \n",
      " 26  relationship_to_hhm         26857 non-null  int64  \n",
      " 27  education                   26857 non-null  object \n",
      " 28  education_technical         26857 non-null  object \n",
      " 29  is_household_head           26857 non-null  bool   \n",
      " 30  Y                           26857 non-null  int64  \n",
      "dtypes: bool(1), float64(19), int64(4), object(7)\n",
      "memory usage: 6.2+ MB\n"
     ]
    }
   ],
   "source": [
    "# concatenate to build total dataset over each year \n",
    "df = pd.concat(dfs).reset_index(drop=True)\n",
    "df.info()"
   ]
  },
  {
   "cell_type": "markdown",
   "metadata": {},
   "source": [
    "# Gender"
   ]
  },
  {
   "cell_type": "code",
   "execution_count": 83,
   "metadata": {},
   "outputs": [
    {
     "data": {
      "text/plain": [
       "sex\n",
       "Male      22899\n",
       "Female     3958\n",
       "Name: count, dtype: int64"
      ]
     },
     "execution_count": 83,
     "metadata": {},
     "output_type": "execute_result"
    }
   ],
   "source": [
    "df['sex'] = df['sex'].replace({'1' : 'Male', '2':'Female'})\n",
    "df.sex.value_counts(dropna=False)"
   ]
  },
  {
   "cell_type": "code",
   "execution_count": 84,
   "metadata": {},
   "outputs": [
    {
     "data": {
      "text/plain": [
       "location\n",
       "Mexico City            15718\n",
       "Coahuila                2794\n",
       "Chiapas                 1835\n",
       "X                       1731\n",
       "Baja California         1707\n",
       "Aguascalientes          1044\n",
       "Chihuahua               1037\n",
       "Campeche                 511\n",
       "Baja California Sur      480\n",
       "Name: count, dtype: int64"
      ]
     },
     "execution_count": 84,
     "metadata": {},
     "output_type": "execute_result"
    }
   ],
   "source": [
    "df['location'] = df.location.str[:2].astype(int)\n",
    "df['zipcode'] = df['location'].copy()\n",
    "df['location'] = df['location'].astype(str).replace(rename_location)\n",
    "df['location'].value_counts()"
   ]
  },
  {
   "cell_type": "markdown",
   "metadata": {},
   "source": [
    "# Normalizing Income and Consumption"
   ]
  },
  {
   "cell_type": "code",
   "execution_count": 85,
   "metadata": {},
   "outputs": [],
   "source": [
    "income_sources = ['income_salary', 'income_business', 'income_transfers']\n",
    "consumption_sources = ['consumption_food', 'consumption_personal', 'consumption_clothing']\n",
    "\n",
    "df['income'] = df[income_sources].sum(axis=1)\n",
    "df['consumption'] = df[consumption_sources].sum(axis=1)"
   ]
  },
  {
   "cell_type": "code",
   "execution_count": 86,
   "metadata": {},
   "outputs": [],
   "source": [
    "\"\"\"Normalization\n",
    "This section normalizes income and consumption measures by two factors:\n",
    "1. Household size\n",
    "2. The price level at the time, given by the cpi\n",
    "\"\"\"\n",
    "df = df.merge(cpi, on='Y', how='left')\n",
    "for column in df.columns:\n",
    "    if 'income' in column or 'consumption' in column:\n",
    "        df[column]  = df[column] / df['cpi']\n",
    "        df[column] = df[column] / df['hh_size']"
   ]
  },
  {
   "cell_type": "code",
   "execution_count": 87,
   "metadata": {},
   "outputs": [
    {
     "name": "stdout",
     "output_type": "stream",
     "text": [
      "Lost due to zero consumption: 0.43564061510965485 %\n",
      "Lost due to zero income: 0.512341062079282 %\n"
     ]
    }
   ],
   "source": [
    "# remove households that do not consume anything\n",
    "len_init = len(df)\n",
    "df = df[df.consumption > 0]\n",
    "len_finish = len(df)\n",
    "print('Lost due to zero consumption:', 100*(len_init - len_finish) / len_init, '%')\n",
    "\n",
    "len_init = len(df)\n",
    "df = df[df.income > 0]\n",
    "len_finish = len(df)\n",
    "print('Lost due to zero income:', 100*(len_init - len_finish) / len_init, '%')"
   ]
  },
  {
   "cell_type": "code",
   "execution_count": 88,
   "metadata": {},
   "outputs": [
    {
     "name": "stdout",
     "output_type": "stream",
     "text": [
      "Lost due to consumption:0.10 %\n",
      "Lost due to income:0.10 %\n"
     ]
    }
   ],
   "source": [
    "q_999 = lambda x : np.quantile(x, 0.999)\n",
    "\n",
    "len_init = len(df)\n",
    "df = df[df.consumption <= df.groupby('Y', as_index=False)['consumption'].transform(q_999)]\n",
    "len_final = len(df)\n",
    "print(f'Lost due to consumption:{100*(len_init - len_final) / len_init :.2f} %')\n",
    "\n",
    "len_init = len(df)\n",
    "df = df[df.income <= df.groupby('Y', as_index=False)['income'].transform(q_999)]\n",
    "len_final = len(df)\n",
    "print(f'Lost due to income:{100*(len_init - len_final) / len_init :.2f} %')"
   ]
  },
  {
   "cell_type": "code",
   "execution_count": 89,
   "metadata": {},
   "outputs": [],
   "source": [
    "df['log_income'] = np.log(df['income'])\n",
    "df['log_consumption'] = np.log(df['consumption'])"
   ]
  },
  {
   "cell_type": "markdown",
   "metadata": {},
   "source": [
    "# Education"
   ]
  },
  {
   "cell_type": "code",
   "execution_count": 90,
   "metadata": {},
   "outputs": [
    {
     "data": {
      "text/plain": [
       "education\n",
       "Low       18095\n",
       "Medium     6028\n",
       "High       2426\n",
       "Name: count, dtype: int64"
      ]
     },
     "execution_count": 90,
     "metadata": {},
     "output_type": "execute_result"
    }
   ],
   "source": [
    "df['education'] = pd.Categorical(df['education'], categories=['Low', 'Medium', 'High'], ordered=True)\n",
    "df['education'] = df['education'].cat.reorder_categories(['Low', 'Medium', 'High'])\n",
    "df.education.value_counts(dropna=False)"
   ]
  },
  {
   "cell_type": "markdown",
   "metadata": {},
   "source": [
    "# Controlling for age"
   ]
  },
  {
   "cell_type": "code",
   "execution_count": 91,
   "metadata": {},
   "outputs": [
    {
     "name": "stdout",
     "output_type": "stream",
     "text": [
      "Lost due to age: 0.23164714301856945 %\n"
     ]
    }
   ],
   "source": [
    "# remove household heads out of age bounds\n",
    "len_init = len(df)\n",
    "df = (df.query('age>=25')\n",
    "      .query('age<=60'))\n",
    "len_finish = len(df)\n",
    "print('Lost due to age:', (len_init - len_finish) / len_init, '%')"
   ]
  },
  {
   "cell_type": "code",
   "execution_count": 92,
   "metadata": {},
   "outputs": [],
   "source": [
    "os.chdir(interim)\n",
    "df.to_csv('main.csv', index=False)"
   ]
  }
 ],
 "metadata": {
  "kernelspec": {
   "display_name": "main",
   "language": "python",
   "name": "python3"
  },
  "language_info": {
   "codemirror_mode": {
    "name": "ipython",
    "version": 3
   },
   "file_extension": ".py",
   "mimetype": "text/x-python",
   "name": "python",
   "nbconvert_exporter": "python",
   "pygments_lexer": "ipython3",
   "version": "3.10.12"
  }
 },
 "nbformat": 4,
 "nbformat_minor": 2
}
