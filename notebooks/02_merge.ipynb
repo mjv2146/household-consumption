{
 "cells": [
  {
   "cell_type": "code",
   "execution_count": 5,
   "metadata": {},
   "outputs": [],
   "source": [
    "import pandas as pd\n",
    "import numpy as np\n",
    "import matplotlib.pyplot as plt\n",
    "\n",
    "import sys; sys.path.append('../src')\n",
    "import os; home = os.path.expanduser('~')\n",
    "\n",
    "sys.path.append(home + '/github/household-consumption/dicts/')\n",
    "\n",
    "import json_utils\n",
    "import utils\n",
    "\n",
    "from simpledbf import Dbf5\n",
    "\n",
    "raw  = home + '/Dropbox/data/mexico_enigh/raw/'\n",
    "interim = home + '/Dropbox/data/mexico_enigh/interim2/'\n",
    "dicts = home + '/github/household-consumption/dicts/'\n",
    "processed = home + '/Dropbox/data/mexico_enigh/processed2/'"
   ]
  },
  {
   "cell_type": "code",
   "execution_count": 6,
   "metadata": {},
   "outputs": [
    {
     "name": "stdout",
     "output_type": "stream",
     "text": [
      "<class 'pandas.core.frame.DataFrame'>\n",
      "RangeIndex: 20399 entries, 0 to 20398\n",
      "Data columns (total 37 columns):\n",
      " #   Column                      Non-Null Count  Dtype  \n",
      "---  ------                      --------------  -----  \n",
      " 0   consumption_transportation  20399 non-null  float64\n",
      " 1   income_salary               20399 non-null  float64\n",
      " 2   income_total                20399 non-null  float64\n",
      " 3   location_size               20399 non-null  int64  \n",
      " 4   hhid                        20399 non-null  int64  \n",
      " 5   consumption_food            20399 non-null  float64\n",
      " 6   consumption_clothing        20399 non-null  float64\n",
      " 7   consumption_total           20399 non-null  float64\n",
      " 8   weight                      20399 non-null  float64\n",
      " 9   income_rental               20399 non-null  float64\n",
      " 10  location                    20399 non-null  object \n",
      " 11  income_transfers            20399 non-null  float64\n",
      " 12  income_current              20399 non-null  float64\n",
      " 13  financial_expenditures      20399 non-null  float64\n",
      " 14  consumption_house           20399 non-null  float64\n",
      " 15  consumption_personal        20399 non-null  float64\n",
      " 16  consumption_health          20399 non-null  float64\n",
      " 17  income_other                20399 non-null  float64\n",
      " 18  financial_income            20399 non-null  float64\n",
      " 19  consumption_current         20399 non-null  float64\n",
      " 20  hh_size                     20399 non-null  int64  \n",
      " 21  income_business             20399 non-null  float64\n",
      " 22  consumption_education       20399 non-null  float64\n",
      " 23  sex                         20399 non-null  object \n",
      " 24  education_technical         20399 non-null  int64  \n",
      " 25  education                   20399 non-null  object \n",
      " 26  relationship_to_hhm         20399 non-null  int64  \n",
      " 27  age                         20399 non-null  int64  \n",
      " 28  type_of_education           20399 non-null  int64  \n",
      " 29  is_household_head           20399 non-null  bool   \n",
      " 30  Y                           20399 non-null  int64  \n",
      " 31  income                      20399 non-null  float64\n",
      " 32  consumption                 20399 non-null  float64\n",
      " 33  cpi                         20399 non-null  float64\n",
      " 34  log_income                  20399 non-null  float64\n",
      " 35  log_consumption             20399 non-null  float64\n",
      " 36  age_sq                      20399 non-null  int64  \n",
      "dtypes: bool(1), float64(24), int64(9), object(3)\n",
      "memory usage: 5.6+ MB\n"
     ]
    }
   ],
   "source": [
    "os.chdir(interim)\n",
    "df = pd.read_csv('main.csv')\n",
    "df.info()"
   ]
  },
  {
   "cell_type": "code",
   "execution_count": 7,
   "metadata": {},
   "outputs": [
    {
     "name": "stdout",
     "output_type": "stream",
     "text": [
      "<class 'pandas.core.frame.DataFrame'>\n",
      "RangeIndex: 20399 entries, 0 to 20398\n",
      "Data columns (total 37 columns):\n",
      " #   Column                      Non-Null Count  Dtype  \n",
      "---  ------                      --------------  -----  \n",
      " 0   consumption_transportation  20399 non-null  float64\n",
      " 1   income_salary               20399 non-null  float64\n",
      " 2   income_total                20399 non-null  float64\n",
      " 3   location_size               20399 non-null  int64  \n",
      " 4   hhid                        20399 non-null  int64  \n",
      " 5   consumption_food            20399 non-null  float64\n",
      " 6   consumption_clothing        20399 non-null  float64\n",
      " 7   consumption_total           20399 non-null  float64\n",
      " 8   weight                      20399 non-null  float64\n",
      " 9   income_rental               20399 non-null  float64\n",
      " 10  location                    20399 non-null  object \n",
      " 11  income_transfers            20399 non-null  float64\n",
      " 12  income_current              20399 non-null  float64\n",
      " 13  financial_expenditures      20399 non-null  float64\n",
      " 14  consumption_house           20399 non-null  float64\n",
      " 15  consumption_personal        20399 non-null  float64\n",
      " 16  consumption_health          20399 non-null  float64\n",
      " 17  income_other                20399 non-null  float64\n",
      " 18  financial_income            20399 non-null  float64\n",
      " 19  consumption_current         20399 non-null  float64\n",
      " 20  hh_size                     20399 non-null  int64  \n",
      " 21  income_business             20399 non-null  float64\n",
      " 22  consumption_education       20399 non-null  float64\n",
      " 23  sex                         20399 non-null  object \n",
      " 24  education_technical         20399 non-null  int64  \n",
      " 25  education                   20399 non-null  object \n",
      " 26  relationship_to_hhm         20399 non-null  int64  \n",
      " 27  age                         20399 non-null  int64  \n",
      " 28  type_of_education           20399 non-null  int64  \n",
      " 29  is_household_head           20399 non-null  bool   \n",
      " 30  Y                           20399 non-null  int64  \n",
      " 31  income                      20399 non-null  float64\n",
      " 32  consumption                 20399 non-null  float64\n",
      " 33  cpi                         20399 non-null  float64\n",
      " 34  log_income                  20399 non-null  float64\n",
      " 35  log_consumption             20399 non-null  float64\n",
      " 36  age_sq                      20399 non-null  int64  \n",
      "dtypes: bool(1), float64(24), int64(9), object(3)\n",
      "memory usage: 5.6+ MB\n"
     ]
    }
   ],
   "source": [
    "df.info()\n",
    "os.chdir(processed)\n",
    "df.to_csv('data.csv', index=False)"
   ]
  }
 ],
 "metadata": {
  "kernelspec": {
   "display_name": "main",
   "language": "python",
   "name": "python3"
  },
  "language_info": {
   "codemirror_mode": {
    "name": "ipython",
    "version": 3
   },
   "file_extension": ".py",
   "mimetype": "text/x-python",
   "name": "python",
   "nbconvert_exporter": "python",
   "pygments_lexer": "ipython3",
   "version": "3.9.6"
  }
 },
 "nbformat": 4,
 "nbformat_minor": 2
}
